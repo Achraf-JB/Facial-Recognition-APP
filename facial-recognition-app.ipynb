{
 "cells": [
  {
   "cell_type": "markdown",
   "id": "067d5327-2bf2-4fb5-9fce-5fa8ba84329d",
   "metadata": {},
   "source": [
    "# 1. SETUP\n"
   ]
  },
  {
   "cell_type": "markdown",
   "id": "e70f72bd-8f03-4507-8a15-810bf9777d79",
   "metadata": {},
   "source": [
    "# 1.1 install dependencies"
   ]
  },
  {
   "cell_type": "code",
   "execution_count": 3,
   "id": "d2c7f1d7-a4a1-4b99-bf29-a6f91819320b",
   "metadata": {},
   "outputs": [],
   "source": [
    "#!pip install tensorflow==2.15.0 opencv-python matplotlib\n",
    "#!pip install opencv-python"
   ]
  },
  {
   "cell_type": "markdown",
   "id": "704d6da7",
   "metadata": {},
   "source": [
    "# 1.2 import dependencies"
   ]
  },
  {
   "cell_type": "code",
   "execution_count": 2,
   "id": "e0fccb98",
   "metadata": {},
   "outputs": [],
   "source": [
    "# import standart dependencies\n",
    "import cv2 \n",
    "import os\n",
    "import random\n",
    "import numpy as np\n",
    "from matplotlib import pyplot as plt"
   ]
  },
  {
   "cell_type": "code",
   "execution_count": 3,
   "id": "086c9149",
   "metadata": {},
   "outputs": [
    {
     "name": "stdout",
     "output_type": "stream",
     "text": [
      "WARNING:tensorflow:From C:\\Users\\HP\\anaconda3\\Lib\\site-packages\\keras\\src\\losses.py:2976: The name tf.losses.sparse_softmax_cross_entropy is deprecated. Please use tf.compat.v1.losses.sparse_softmax_cross_entropy instead.\n",
      "\n"
     ]
    }
   ],
   "source": [
    "# import tenserflow dependencies-function API\n",
    "from tensorflow.keras.models import Model\n",
    "from tensorflow.keras.layers import Layer, Conv2D, MaxPooling2D, Input, Flatten,Dense\n",
    "import tensorflow as tf"
   ]
  },
  {
   "cell_type": "markdown",
   "id": "23753eb0",
   "metadata": {},
   "source": [
    "# 1.3 SET GPU Growth"
   ]
  },
  {
   "cell_type": "code",
   "execution_count": 6,
   "id": "a302db96",
   "metadata": {},
   "outputs": [],
   "source": [
    "#avoid OOM erros by settings GPU memory consumption Growth\n",
    "gpus = tf.config.experimental.list_physical_devices('GPU')\n",
    "for gpu in gpus :\n",
    "    tf.config.experimental.set_memory_growth(gpu,True)"
   ]
  },
  {
   "cell_type": "code",
   "execution_count": 7,
   "id": "8f47dc98",
   "metadata": {},
   "outputs": [
    {
     "data": {
      "text/plain": [
       "([],)"
      ]
     },
     "execution_count": 7,
     "metadata": {},
     "output_type": "execute_result"
    }
   ],
   "source": [
    "gpus,"
   ]
  },
  {
   "cell_type": "markdown",
   "id": "633eaf4e",
   "metadata": {},
   "source": [
    "# 1.4 create folder structure"
   ]
  },
  {
   "cell_type": "code",
   "execution_count": 4,
   "id": "6682b1d7",
   "metadata": {},
   "outputs": [
    {
     "ename": "FileExistsError",
     "evalue": "[WinError 183] Impossible de créer un fichier déjà existant: 'data\\\\negative'",
     "output_type": "error",
     "traceback": [
      "\u001b[1;31m---------------------------------------------------------------------------\u001b[0m",
      "\u001b[1;31mFileExistsError\u001b[0m                           Traceback (most recent call last)",
      "Cell \u001b[1;32mIn[4], line 8\u001b[0m\n\u001b[0;32m      4\u001b[0m anc_path \u001b[38;5;241m=\u001b[39mos\u001b[38;5;241m.\u001b[39mpath\u001b[38;5;241m.\u001b[39mjoin(\u001b[38;5;124m\"\u001b[39m\u001b[38;5;124mdata\u001b[39m\u001b[38;5;124m\"\u001b[39m,\u001b[38;5;124m'\u001b[39m\u001b[38;5;124manchor\u001b[39m\u001b[38;5;124m'\u001b[39m)\n\u001b[0;32m      6\u001b[0m \u001b[38;5;66;03m#make the directories\u001b[39;00m\n\u001b[0;32m      7\u001b[0m \u001b[38;5;66;03m#os.makedirs(pos_path)\u001b[39;00m\n\u001b[1;32m----> 8\u001b[0m os\u001b[38;5;241m.\u001b[39mmakedirs(neg_path)\n\u001b[0;32m      9\u001b[0m os\u001b[38;5;241m.\u001b[39mmakedirs(anc_path)\n",
      "File \u001b[1;32m<frozen os>:225\u001b[0m, in \u001b[0;36mmakedirs\u001b[1;34m(name, mode, exist_ok)\u001b[0m\n",
      "\u001b[1;31mFileExistsError\u001b[0m: [WinError 183] Impossible de créer un fichier déjà existant: 'data\\\\negative'"
     ]
    }
   ],
   "source": [
    "#set path\n",
    "pos_path =os.path.join(\"data\",'positive')\n",
    "neg_path =os.path.join(\"data\",'negative')\n",
    "anc_path =os.path.join(\"data\",'anchor')\n",
    "\n",
    "#make the directories\n",
    "#os.makedirs(pos_path)\n",
    "os.makedirs(neg_path)\n",
    "os.makedirs(anc_path)"
   ]
  },
  {
   "cell_type": "markdown",
   "id": "9790443a",
   "metadata": {},
   "source": [
    "# 2. collect positives and anchors"
   ]
  },
  {
   "cell_type": "markdown",
   "id": "8db002a9",
   "metadata": {},
   "source": [
    "# 2.1 untar labelled faces in the wild dataset"
   ]
  },
  {
   "cell_type": "code",
   "execution_count": null,
   "id": "63fe7d4b",
   "metadata": {},
   "outputs": [],
   "source": [
    "#http://vis-www.cs.umass.edu/lfw/#explore\n",
    "!tar -xf lfw.tgz"
   ]
  },
  {
   "cell_type": "code",
   "execution_count": null,
   "id": "5a7e92fe",
   "metadata": {},
   "outputs": [],
   "source": [
    "#Move LFW Images to the following repository data\\negative\n",
    "for directory in os.listdir('lfw'):\n",
    "    for file in os.listdir(os.path.join('lfw',directory)):\n",
    "        EX_PATH = os.path.join('lfw',directory,file)\n",
    "        NEW_PATH = os.path.join(neg_path, file)\n",
    "        os.replace(EX_PATH,NEW_PATH)"
   ]
  },
  {
   "cell_type": "markdown",
   "id": "e6a5e4a2",
   "metadata": {},
   "source": [
    "# 2.2 collect positive and anchor classes"
   ]
  },
  {
   "cell_type": "code",
   "execution_count": 5,
   "id": "bbf7ce28",
   "metadata": {},
   "outputs": [],
   "source": [
    "#import uuid  library to generate unique image names \n",
    "import uuid"
   ]
  },
  {
   "cell_type": "code",
   "execution_count": null,
   "id": "fd189476",
   "metadata": {},
   "outputs": [],
   "source": [
    "uuid??"
   ]
  },
  {
   "cell_type": "code",
   "execution_count": 6,
   "id": "00406505",
   "metadata": {},
   "outputs": [],
   "source": [
    "# Establish a connection to the webcam \n",
    "cap = cv2.VideoCapture(0)\n",
    "while cap.isOpened():\n",
    "    ret, frame = cap.read()\n",
    "    #cut down frame to 250*250px\n",
    "    frame = frame[150:150+250,150:150+250,:]\n",
    "    \n",
    "    #collect anchors\n",
    "    if cv2.waitKey(1) & 0xFF == ord('a'):\n",
    "        #create the unqie file path\n",
    "        imgname = os.path.join(anc_path,'{}.jpg'.format(uuid.uuid1()))\n",
    "        #write out anchor path\n",
    "        cv2.imwrite(imgname,frame)\n",
    "    #collect positive\n",
    "    if cv2.waitKey(1) & 0xFF == ord('p'):\n",
    "         #create the unqie file path\n",
    "        imgname = os.path.join(pos_path,'{}.jpg'.format(uuid.uuid1()))\n",
    "        #write out anchor path\n",
    "        cv2.imwrite(imgname,frame)\n",
    "    \n",
    "    #show image back to screen\n",
    "    cv2.imshow('Image Collection',frame)\n",
    "    #breaking gracefully\n",
    "    if cv2.waitKey(1) & 0xFF == ord('q'):\n",
    "        break\n",
    "#release the webcam        \n",
    "cap.release()\n",
    "#close the image show frame\n",
    "cv2.destroyAllWindows()"
   ]
  },
  {
   "cell_type": "code",
   "execution_count": null,
   "id": "7177d2bb",
   "metadata": {},
   "outputs": [],
   "source": [
    "plt.imshow(frame)"
   ]
  },
  {
   "cell_type": "code",
   "execution_count": 1,
   "id": "c77a04db",
   "metadata": {},
   "outputs": [],
   "source": [
    "#plt.imshow(frame[190:190+250,210:210+250,:])"
   ]
  },
  {
   "cell_type": "markdown",
   "id": "45081050",
   "metadata": {},
   "source": [
    "# 3. Load and Preprocess Images"
   ]
  },
  {
   "cell_type": "markdown",
   "id": "2ecc7723",
   "metadata": {},
   "source": [
    "# 3.1 Get Image Directories"
   ]
  },
  {
   "cell_type": "code",
   "execution_count": 7,
   "id": "7f5786fe",
   "metadata": {},
   "outputs": [],
   "source": [
    "anchor = tf.data.Dataset.list_files(anc_path+'\\*.jpg').take(300)\n",
    "positive = tf.data.Dataset.list_files(pos_path+'\\*.jpg').take(300)\n",
    "negative = tf.data.Dataset.list_files(neg_path+'\\*.jpg').take(300)"
   ]
  },
  {
   "cell_type": "code",
   "execution_count": 8,
   "id": "f31fd790",
   "metadata": {},
   "outputs": [],
   "source": [
    "dir_test = anchor.as_numpy_iterator()\n"
   ]
  },
  {
   "cell_type": "code",
   "execution_count": 9,
   "id": "d39ae7d1",
   "metadata": {},
   "outputs": [
    {
     "data": {
      "text/plain": [
       "b'data\\\\anchor\\\\c717e04b-b8af-11ee-bdef-80193424ee23.jpg'"
      ]
     },
     "execution_count": 9,
     "metadata": {},
     "output_type": "execute_result"
    }
   ],
   "source": [
    "dir_test.next()\n"
   ]
  },
  {
   "cell_type": "code",
   "execution_count": null,
   "id": "e846530e",
   "metadata": {},
   "outputs": [],
   "source": []
  },
  {
   "cell_type": "markdown",
   "id": "d7f11935",
   "metadata": {},
   "source": [
    "# 3.2 Preprocessing -scale and Resize"
   ]
  },
  {
   "cell_type": "code",
   "execution_count": 13,
   "id": "d3624b63",
   "metadata": {},
   "outputs": [],
   "source": [
    "def preprocess(file_path):\n",
    "    #read in image from file path\n",
    "    byte_img = tf.io.read_file(file_path)\n",
    "    #load the image\n",
    "    img = tf.io.decode_jpeg(byte_img)\n",
    "    #Preprocessing steps -resizing the image to be 100*100*3\n",
    "    img = tf.image.resize(img,(100,100))\n",
    "    #scale image to be  between 0 and 1\n",
    "    img = img/255.0\n",
    "    #return image\n",
    "    \n",
    "    return img"
   ]
  },
  {
   "cell_type": "code",
   "execution_count": null,
   "id": "a95c8c08",
   "metadata": {},
   "outputs": [],
   "source": [
    "img =preprocess('data\\\\anchor\\\\c717e04b-b8af-11ee-bdef-80193424ee23.jpg')\n",
    "plt.imshow(img)"
   ]
  },
  {
   "cell_type": "code",
   "execution_count": null,
   "id": "c81b6791",
   "metadata": {},
   "outputs": [],
   "source": []
  },
  {
   "cell_type": "markdown",
   "id": "c2be47dc",
   "metadata": {},
   "source": [
    "# 3.3 create Labelled  Dataset"
   ]
  },
  {
   "cell_type": "code",
   "execution_count": null,
   "id": "ba0db291",
   "metadata": {},
   "outputs": [],
   "source": [
    "# (anchor,positive) => 1,1,1,1\n",
    "# (anchor,negative) => 0,0,0,0\n"
   ]
  },
  {
   "cell_type": "code",
   "execution_count": 15,
   "id": "273022da",
   "metadata": {},
   "outputs": [],
   "source": [
    "positives = tf.data.Dataset.zip((anchor,positive,tf.data.Dataset.from_tensor_slices(tf.ones(len(anchor)))))\n",
    "negatives = tf.data.Dataset.zip((anchor,negative,tf.data.Dataset.from_tensor_slices(tf.zeros(len(anchor)))))\n",
    "data  = positives.concatenate(negatives)"
   ]
  },
  {
   "cell_type": "code",
   "execution_count": 16,
   "id": "1e023f51",
   "metadata": {},
   "outputs": [],
   "source": [
    "samples = data.as_numpy_iterator()"
   ]
  },
  {
   "cell_type": "code",
   "execution_count": 17,
   "id": "f024c6aa",
   "metadata": {},
   "outputs": [
    {
     "data": {
      "text/plain": [
       "(b'data\\\\anchor\\\\ab6f7d8a-b8af-11ee-81d4-80193424ee23.jpg',\n",
       " b'data\\\\positive\\\\abb0509d-b8af-11ee-989f-80193424ee23.jpg',\n",
       " 1.0)"
      ]
     },
     "execution_count": 17,
     "metadata": {},
     "output_type": "execute_result"
    }
   ],
   "source": [
    "example =samples.next()\n",
    "example"
   ]
  },
  {
   "cell_type": "markdown",
   "id": "a520c5ee",
   "metadata": {},
   "source": [
    "# 3.4 Build Train and Test Partition"
   ]
  },
  {
   "cell_type": "code",
   "execution_count": 22,
   "id": "367f4761",
   "metadata": {},
   "outputs": [],
   "source": [
    "def preprocess_twin(input_img,validation_img,label):\n",
    "    return(preprocess(input_img),preprocess(validation_img),label)"
   ]
  },
  {
   "cell_type": "code",
   "execution_count": 23,
   "id": "dc63915c",
   "metadata": {},
   "outputs": [],
   "source": [
    " res = preprocess_twin(*example)"
   ]
  },
  {
   "cell_type": "code",
   "execution_count": null,
   "id": "1b30d746",
   "metadata": {},
   "outputs": [],
   "source": [
    "plt.imshow(res[0])\n",
    "res[2]"
   ]
  },
  {
   "cell_type": "code",
   "execution_count": 25,
   "id": "50bfdf3f",
   "metadata": {},
   "outputs": [],
   "source": [
    "#built dataloader pipeline\n",
    "data =data.map(preprocess_twin)\n",
    "data = data.cache()\n",
    "data = data.shuffle(buffer_size =1024)"
   ]
  },
  {
   "cell_type": "code",
   "execution_count": 26,
   "id": "138abe5c",
   "metadata": {},
   "outputs": [
    {
     "data": {
      "text/plain": [
       "3"
      ]
     },
     "execution_count": 26,
     "metadata": {},
     "output_type": "execute_result"
    }
   ],
   "source": [
    "samples = data.as_numpy_iterator()\n",
    "samples.next()\n",
    "len(samples.next())\n"
   ]
  },
  {
   "cell_type": "code",
   "execution_count": null,
   "id": "0bf77552",
   "metadata": {},
   "outputs": [],
   "source": [
    "plt.imshow(samples.next()[0])"
   ]
  },
  {
   "cell_type": "code",
   "execution_count": 27,
   "id": "c3e0c112",
   "metadata": {},
   "outputs": [],
   "source": [
    "#training partition\n",
    "train_data = data.take(round(len(data)*.7))\n",
    "train_data = train_data.batch(16)\n",
    "train_data = train_data.prefetch(8)"
   ]
  },
  {
   "cell_type": "code",
   "execution_count": 28,
   "id": "9f0145af",
   "metadata": {},
   "outputs": [],
   "source": [
    "#testing partition\n",
    "test_data = data.skip(round(len(data)*.7))\n",
    "test_data = test_data.take(round(len(data)*.3))\n",
    "test_data = test_data.batch(16)\n",
    "test_data = test_data.prefetch(8)"
   ]
  },
  {
   "cell_type": "markdown",
   "id": "5a8ee9b2",
   "metadata": {},
   "source": [
    "# 4. Model Engineering"
   ]
  },
  {
   "cell_type": "markdown",
   "id": "e77ba7f7",
   "metadata": {},
   "source": [
    "# 4.1 Build Embedding Layer"
   ]
  },
  {
   "cell_type": "code",
   "execution_count": 29,
   "id": "775ce8a6",
   "metadata": {},
   "outputs": [],
   "source": [
    "#\n",
    "def make_embedding():\n",
    "    \n",
    "    inp = Input(shape=(100,100,3),name= \"input_image\")\n",
    "    #FIRST BLOCK\n",
    "    \n",
    "    c1 = Conv2D(64 ,(10,10),activation ='relu')(inp)\n",
    "    m1= MaxPooling2D(64,(2,2),padding='same')(c1)\n",
    "    \n",
    "    #SECOND BLOCK\n",
    "    c2 = Conv2D(128 ,(7,7),activation ='relu')(m1)\n",
    "    m2= MaxPooling2D(64,(2,2),padding='same')(c2)\n",
    "    \n",
    "    #THIRD BLOCK\n",
    "    c3 = Conv2D(128 ,(4,4),activation ='relu')(m2)\n",
    "    m3= MaxPooling2D(64,(2,2),padding='same')(c3)\n",
    "    \n",
    "    #FINAL EMBEDDING BLOCK\n",
    "    c4 = Conv2D(256 ,(4,4),activation ='relu')(m3)\n",
    "    f1= Flatten()(c4)\n",
    "    d1 = Dense(4096,activation='sigmoid')(f1)\n",
    "    \n",
    "    return Model(inputs=[inp] , outputs=[d1] , name='embedding')\n",
    "    "
   ]
  },
  {
   "cell_type": "code",
   "execution_count": 30,
   "id": "15e8f3a4",
   "metadata": {},
   "outputs": [
    {
     "name": "stdout",
     "output_type": "stream",
     "text": [
      "WARNING:tensorflow:From C:\\Users\\HP\\anaconda3\\Lib\\site-packages\\keras\\src\\backend.py:1398: The name tf.executing_eagerly_outside_functions is deprecated. Please use tf.compat.v1.executing_eagerly_outside_functions instead.\n",
      "\n",
      "WARNING:tensorflow:From C:\\Users\\HP\\anaconda3\\Lib\\site-packages\\keras\\src\\layers\\pooling\\max_pooling2d.py:161: The name tf.nn.max_pool is deprecated. Please use tf.nn.max_pool2d instead.\n",
      "\n"
     ]
    }
   ],
   "source": [
    "embedding = make_embedding()"
   ]
  },
  {
   "cell_type": "code",
   "execution_count": null,
   "id": "7bbc843d",
   "metadata": {},
   "outputs": [],
   "source": []
  },
  {
   "cell_type": "code",
   "execution_count": null,
   "id": "e0029c66",
   "metadata": {},
   "outputs": [],
   "source": []
  },
  {
   "cell_type": "code",
   "execution_count": null,
   "id": "f562958b",
   "metadata": {},
   "outputs": [],
   "source": []
  },
  {
   "cell_type": "markdown",
   "id": "a960e58c",
   "metadata": {},
   "source": [
    "# 4.2 Build Distance Layer"
   ]
  },
  {
   "cell_type": "code",
   "execution_count": 31,
   "id": "febe9021",
   "metadata": {},
   "outputs": [],
   "source": [
    "#siamese L1 distance class\n",
    "class L1Dist(Layer):\n",
    "    #init method - inherite\n",
    "    def __init__(self,**kwargs):\n",
    "        super().__init__()\n",
    "    #magic happens here - similarity calculation\n",
    "    def call(self,input_embedding,validation_embedding):\n",
    "        return tf.math.abs(input_embedding - validation_embedding)"
   ]
  },
  {
   "cell_type": "code",
   "execution_count": null,
   "id": "129a56dc",
   "metadata": {},
   "outputs": [],
   "source": []
  },
  {
   "cell_type": "markdown",
   "id": "2192b0d1",
   "metadata": {},
   "source": [
    "# 4.3 Make siemese Model"
   ]
  },
  {
   "cell_type": "code",
   "execution_count": 32,
   "id": "ba373879",
   "metadata": {},
   "outputs": [],
   "source": [
    "def make_siamese_model():\n",
    "    #Anchor image input in the network\n",
    "    input_image= Input(name='input_img',shape=(100,100,3))\n",
    "    #Validation image in the network\n",
    "    validation_image = Input(name='validation_img',shape=(100,100,3))\n",
    "    \n",
    "    #combine siamese distance components\n",
    "    siamese_layer = L1Dist()\n",
    "    siamese_layer._name = 'distance'\n",
    "    distance =siamese_layer(embedding(input_image),embedding(validation_image))\n",
    "    \n",
    "    #classification layer\n",
    "    classifier = Dense(1,activation='sigmoid')(distance)\n",
    "    \n",
    "    return  Model(inputs =[input_image, validation_image],outputs = classifier , name ='siameseNetwork')"
   ]
  },
  {
   "cell_type": "code",
   "execution_count": 33,
   "id": "827fea4a",
   "metadata": {},
   "outputs": [
    {
     "data": {
      "text/plain": [
       "<keras.src.engine.functional.Functional at 0x16db2e2e510>"
      ]
     },
     "execution_count": 33,
     "metadata": {},
     "output_type": "execute_result"
    }
   ],
   "source": [
    "siamese_model=make_siamese_model()\n",
    "siamese_model"
   ]
  },
  {
   "cell_type": "markdown",
   "id": "0676a347",
   "metadata": {},
   "source": [
    "# 5. Training"
   ]
  },
  {
   "cell_type": "markdown",
   "id": "1e09c4c2",
   "metadata": {},
   "source": [
    "#  5.1 Setup Loss and Optimizer"
   ]
  },
  {
   "cell_type": "code",
   "execution_count": 35,
   "id": "8b5a12b3",
   "metadata": {},
   "outputs": [],
   "source": [
    "binary_cross_loss = tf.losses.BinaryCrossentropy()"
   ]
  },
  {
   "cell_type": "code",
   "execution_count": 34,
   "id": "7518bcd1",
   "metadata": {},
   "outputs": [],
   "source": [
    "opt = tf.keras.optimizers.Adam(1e-4)"
   ]
  },
  {
   "cell_type": "markdown",
   "id": "8739046e",
   "metadata": {},
   "source": [
    "# 5.2 Establish checkpoints"
   ]
  },
  {
   "cell_type": "code",
   "execution_count": 36,
   "id": "c65e02a5",
   "metadata": {},
   "outputs": [],
   "source": [
    "checkpoint_dir = './training_checkpoints'\n",
    "checkpoint_prefix = os.path.join(checkpoint_dir,'ckpt')\n",
    "checkpoint = tf.train.Checkpoint(opt = opt , siamese_model = siamese_model)\n"
   ]
  },
  {
   "cell_type": "code",
   "execution_count": null,
   "id": "f84f7bb2",
   "metadata": {},
   "outputs": [],
   "source": []
  },
  {
   "cell_type": "markdown",
   "id": "c15284a5",
   "metadata": {},
   "source": [
    "# 5.3 Build Train step Function\n"
   ]
  },
  {
   "cell_type": "code",
   "execution_count": 37,
   "id": "1a376c5c",
   "metadata": {},
   "outputs": [],
   "source": [
    "@tf.function\n",
    "def train_step(batch):\n",
    "    \n",
    "    #ecord all of our operation\n",
    "    with tf.GradientTape()as tape:\n",
    "        #get anchor and positive\\negative image\n",
    "        X = batch[:2]\n",
    "        #get label\n",
    "        y = batch[2]\n",
    "        \n",
    "        \n",
    "        #forward pass\n",
    "        yhat = siamese_model(X, training =True)\n",
    "        #calulate loss\n",
    "        loss = binary_cross_loss(y,yhat)\n",
    "    print(loss)    \n",
    "    #calculate gradient\n",
    "    grad = tape.gradient(loss, siamese_model.trainable_variables)\n",
    "\n",
    "    \n",
    "    #calculate updated weights and apply to siamese model\n",
    "    \n",
    "    \n",
    "    opt.apply_gradients(zip(grad,siamese_model.trainable_variables))\n",
    "    #return loss\n",
    "    \n",
    "    return loss"
   ]
  },
  {
   "cell_type": "code",
   "execution_count": null,
   "id": "b0461214",
   "metadata": {},
   "outputs": [],
   "source": []
  },
  {
   "cell_type": "markdown",
   "id": "60db7fe1",
   "metadata": {},
   "source": [
    "# 5.4 Build Training Loop"
   ]
  },
  {
   "cell_type": "code",
   "execution_count": 38,
   "id": "7ea02ed3",
   "metadata": {},
   "outputs": [],
   "source": [
    "def train(data, EPOCHS):\n",
    "    # Loop through epochs\n",
    "    for epoch in range(1, EPOCHS+1):\n",
    "        print('\\n Epoch {}/{}'.format(epoch, EPOCHS))\n",
    "        progbar = tf.keras.utils.Progbar(len(train_data))\n",
    "        \n",
    "        # Loop through each batch\n",
    "        for idx, batch in enumerate(train_data):\n",
    "            # Run train step here\n",
    "            train_step(batch)\n",
    "            progbar.update(idx+1)\n",
    "            \n",
    "        # SAVE CHECKPOINTS\n",
    "        if epoch % 10 == 0:\n",
    "            checkpoint.save(file_prefix=checkpoint_prefix)\n"
   ]
  },
  {
   "cell_type": "code",
   "execution_count": null,
   "id": "f8243007",
   "metadata": {},
   "outputs": [],
   "source": []
  },
  {
   "cell_type": "markdown",
   "id": "6b592a9f",
   "metadata": {},
   "source": [
    "# 5.5 Train the model "
   ]
  },
  {
   "cell_type": "code",
   "execution_count": 39,
   "id": "11b48ed2",
   "metadata": {},
   "outputs": [],
   "source": [
    "EPOCHS =50"
   ]
  },
  {
   "cell_type": "code",
   "execution_count": 40,
   "id": "40c31f3e",
   "metadata": {},
   "outputs": [
    {
     "name": "stdout",
     "output_type": "stream",
     "text": [
      "\n",
      " Epoch 1/50\n",
      "Tensor(\"binary_crossentropy/weighted_loss/value:0\", shape=(), dtype=float32)\n",
      "Tensor(\"binary_crossentropy/weighted_loss/value:0\", shape=(), dtype=float32)\n",
      "4/5 [=======================>......] - ETA: 6s Tensor(\"binary_crossentropy/weighted_loss/value:0\", shape=(), dtype=float32)\n",
      "5/5 [==============================] - 33s 6s/step\n",
      "\n",
      " Epoch 2/50\n",
      "5/5 [==============================] - 30s 6s/step\n",
      "\n",
      " Epoch 3/50\n",
      "5/5 [==============================] - 32s 6s/step\n",
      "\n",
      " Epoch 4/50\n",
      "5/5 [==============================] - 40s 7s/step\n",
      "\n",
      " Epoch 5/50\n",
      "5/5 [==============================] - 39s 8s/step\n",
      "\n",
      " Epoch 6/50\n",
      "5/5 [==============================] - 38s 8s/step\n",
      "\n",
      " Epoch 7/50\n",
      "5/5 [==============================] - 37s 7s/step\n",
      "\n",
      " Epoch 8/50\n",
      "5/5 [==============================] - 41s 8s/step\n",
      "\n",
      " Epoch 9/50\n",
      "5/5 [==============================] - 40s 8s/step\n",
      "\n",
      " Epoch 10/50\n",
      "5/5 [==============================] - 37s 7s/step\n",
      "\n",
      " Epoch 11/50\n",
      "5/5 [==============================] - 37s 7s/step\n",
      "\n",
      " Epoch 12/50\n",
      "5/5 [==============================] - 37s 7s/step\n",
      "\n",
      " Epoch 13/50\n",
      "5/5 [==============================] - 37s 7s/step\n",
      "\n",
      " Epoch 14/50\n",
      "5/5 [==============================] - 37s 7s/step\n",
      "\n",
      " Epoch 15/50\n",
      "5/5 [==============================] - 38s 7s/step\n",
      "\n",
      " Epoch 16/50\n",
      "5/5 [==============================] - 41s 8s/step\n",
      "\n",
      " Epoch 17/50\n",
      "5/5 [==============================] - 40s 8s/step\n",
      "\n",
      " Epoch 18/50\n",
      "5/5 [==============================] - 38s 7s/step\n",
      "\n",
      " Epoch 19/50\n",
      "5/5 [==============================] - 38s 7s/step\n",
      "\n",
      " Epoch 20/50\n",
      "5/5 [==============================] - 38s 7s/step\n",
      "\n",
      " Epoch 21/50\n",
      "5/5 [==============================] - 38s 7s/step\n",
      "\n",
      " Epoch 22/50\n",
      "5/5 [==============================] - 37s 7s/step\n",
      "\n",
      " Epoch 23/50\n",
      "5/5 [==============================] - 38s 7s/step\n",
      "\n",
      " Epoch 24/50\n",
      "5/5 [==============================] - 39s 8s/step\n",
      "\n",
      " Epoch 25/50\n",
      "5/5 [==============================] - 41s 8s/step\n",
      "\n",
      " Epoch 26/50\n",
      "5/5 [==============================] - 38s 7s/step\n",
      "\n",
      " Epoch 27/50\n",
      "5/5 [==============================] - 38s 7s/step\n",
      "\n",
      " Epoch 28/50\n",
      "5/5 [==============================] - 37s 7s/step\n",
      "\n",
      " Epoch 29/50\n",
      "5/5 [==============================] - 38s 7s/step\n",
      "\n",
      " Epoch 30/50\n",
      "5/5 [==============================] - 39s 8s/step\n",
      "\n",
      " Epoch 31/50\n",
      "5/5 [==============================] - 40s 8s/step\n",
      "\n",
      " Epoch 32/50\n",
      "5/5 [==============================] - 39s 7s/step\n",
      "\n",
      " Epoch 33/50\n",
      "5/5 [==============================] - 40s 8s/step\n",
      "\n",
      " Epoch 34/50\n",
      "5/5 [==============================] - 40s 8s/step\n",
      "\n",
      " Epoch 35/50\n",
      "5/5 [==============================] - 39s 8s/step\n",
      "\n",
      " Epoch 36/50\n",
      "5/5 [==============================] - 39s 7s/step\n",
      "\n",
      " Epoch 37/50\n",
      "5/5 [==============================] - 36s 7s/step\n",
      "\n",
      " Epoch 38/50\n",
      "5/5 [==============================] - 40s 8s/step\n",
      "\n",
      " Epoch 39/50\n",
      "5/5 [==============================] - 33s 6s/step\n",
      "\n",
      " Epoch 40/50\n",
      "5/5 [==============================] - 33s 6s/step\n",
      "\n",
      " Epoch 41/50\n",
      "5/5 [==============================] - 38s 7s/step\n",
      "\n",
      " Epoch 42/50\n",
      "5/5 [==============================] - 42s 8s/step\n",
      "\n",
      " Epoch 43/50\n",
      "5/5 [==============================] - 39s 7s/step\n",
      "\n",
      " Epoch 44/50\n",
      "5/5 [==============================] - 40s 8s/step\n",
      "\n",
      " Epoch 45/50\n",
      "5/5 [==============================] - 41s 8s/step\n",
      "\n",
      " Epoch 46/50\n",
      "5/5 [==============================] - 44s 9s/step\n",
      "\n",
      " Epoch 47/50\n",
      "5/5 [==============================] - 45s 9s/step\n",
      "\n",
      " Epoch 48/50\n",
      "5/5 [==============================] - 43s 8s/step\n",
      "\n",
      " Epoch 49/50\n",
      "5/5 [==============================] - 46s 9s/step\n",
      "\n",
      " Epoch 50/50\n",
      "5/5 [==============================] - 44s 8s/step\n"
     ]
    }
   ],
   "source": [
    "\n",
    "\n",
    "train(train_data,EPOCHS)"
   ]
  },
  {
   "cell_type": "markdown",
   "id": "5a39072a",
   "metadata": {},
   "source": [
    "# 6. Evaluate model"
   ]
  },
  {
   "cell_type": "markdown",
   "id": "a9e75425",
   "metadata": {},
   "source": [
    "## 6.1 Import Metrics"
   ]
  },
  {
   "cell_type": "code",
   "execution_count": 42,
   "id": "28e8c2fe",
   "metadata": {},
   "outputs": [],
   "source": [
    "#import metric calculations\n",
    "from tensorflow.keras.metrics import Precision,Recall"
   ]
  },
  {
   "cell_type": "markdown",
   "id": "f99a81ab",
   "metadata": {},
   "source": [
    "## 6.2 Make Predictions"
   ]
  },
  {
   "cell_type": "code",
   "execution_count": 41,
   "id": "ea105704",
   "metadata": {},
   "outputs": [],
   "source": [
    "# Get a batch of test data\n",
    "test_input, test_val, y_true = test_data.as_numpy_iterator().next()"
   ]
  },
  {
   "cell_type": "code",
   "execution_count": 43,
   "id": "2b9b92e2",
   "metadata": {},
   "outputs": [
    {
     "name": "stdout",
     "output_type": "stream",
     "text": [
      "1/1 [==============================] - 4s 4s/step\n"
     ]
    },
    {
     "data": {
      "text/plain": [
       "array([[9.9999994e-01],\n",
       "       [6.3506921e-12],\n",
       "       [9.9999970e-01],\n",
       "       [9.9999952e-01],\n",
       "       [5.0501014e-10],\n",
       "       [9.9998760e-01],\n",
       "       [9.9815077e-01],\n",
       "       [9.9999464e-01],\n",
       "       [1.0000000e+00],\n",
       "       [7.2115358e-10],\n",
       "       [7.3884430e-06],\n",
       "       [9.9851876e-01],\n",
       "       [9.9137586e-01],\n",
       "       [7.5460994e-04],\n",
       "       [9.9935746e-01],\n",
       "       [1.0000000e+00]], dtype=float32)"
      ]
     },
     "execution_count": 43,
     "metadata": {},
     "output_type": "execute_result"
    }
   ],
   "source": [
    "y_hat = siamese_model.predict([test_input, test_val])\n",
    "y_hat"
   ]
  },
  {
   "cell_type": "code",
   "execution_count": 44,
   "id": "37594e93",
   "metadata": {},
   "outputs": [
    {
     "data": {
      "text/plain": [
       "[1, 0, 1, 1, 0, 1, 1, 1, 1, 0, 0, 1, 1, 0, 1, 1]"
      ]
     },
     "execution_count": 44,
     "metadata": {},
     "output_type": "execute_result"
    }
   ],
   "source": [
    "# Post processing the results \n",
    "[1 if prediction > 0.5 else 0 for prediction in y_hat ]"
   ]
  },
  {
   "cell_type": "code",
   "execution_count": 45,
   "id": "61072a0f",
   "metadata": {},
   "outputs": [
    {
     "data": {
      "text/plain": [
       "array([1., 0., 1., 1., 0., 1., 1., 1., 1., 0., 0., 1., 1., 0., 1., 1.],\n",
       "      dtype=float32)"
      ]
     },
     "execution_count": 45,
     "metadata": {},
     "output_type": "execute_result"
    }
   ],
   "source": [
    "y_true"
   ]
  },
  {
   "cell_type": "markdown",
   "id": "17c7c110",
   "metadata": {},
   "source": [
    "## 6.3 Calculate Metrics"
   ]
  },
  {
   "cell_type": "code",
   "execution_count": 46,
   "id": "e1f0bdc7",
   "metadata": {},
   "outputs": [
    {
     "data": {
      "text/plain": [
       "1.0"
      ]
     },
     "execution_count": 46,
     "metadata": {},
     "output_type": "execute_result"
    }
   ],
   "source": [
    "# Creating a metric object \n",
    "m = Recall()\n",
    "\n",
    "# Calculating the recall value \n",
    "m.update_state(y_true, y_hat)\n",
    "\n",
    "# Return Recall Result\n",
    "m.result().numpy()"
   ]
  },
  {
   "cell_type": "code",
   "execution_count": 47,
   "id": "8d1809ff",
   "metadata": {},
   "outputs": [
    {
     "data": {
      "text/plain": [
       "1.0"
      ]
     },
     "execution_count": 47,
     "metadata": {},
     "output_type": "execute_result"
    }
   ],
   "source": [
    "# Creating a metric object \n",
    "m = Precision()\n",
    "\n",
    "# Calculating the recall value \n",
    "m.update_state(y_true, y_hat)\n",
    "\n",
    "# Return Recall Result\n",
    "m.result().numpy()\n"
   ]
  },
  {
   "cell_type": "code",
   "execution_count": 48,
   "id": "488d876a",
   "metadata": {},
   "outputs": [
    {
     "name": "stdout",
     "output_type": "stream",
     "text": [
      "1/1 [==============================] - 4s 4s/step\n",
      "1/1 [==============================] - 3s 3s/step\n",
      "1.0 1.0\n"
     ]
    }
   ],
   "source": [
    "r = Recall()\n",
    "p = Precision()\n",
    "\n",
    "for test_input, test_val, y_true in test_data.as_numpy_iterator():\n",
    "    yhat = siamese_model.predict([test_input, test_val])\n",
    "    r.update_state(y_true, yhat)\n",
    "    p.update_state(y_true,yhat) \n",
    "\n",
    "print(r.result().numpy(), p.result().numpy())"
   ]
  },
  {
   "cell_type": "markdown",
   "id": "fbbfa98f",
   "metadata": {},
   "source": [
    "## 6.4 Viz Results"
   ]
  },
  {
   "cell_type": "code",
   "execution_count": null,
   "id": "27b4035e",
   "metadata": {
    "scrolled": true
   },
   "outputs": [],
   "source": [
    "# Set plot size \n",
    "plt.figure(figsize=(10,8))\n",
    "\n",
    "# Set first subplot\n",
    "plt.subplot(1,2,1)\n",
    "plt.imshow(test_input[0])\n",
    "\n",
    "# Set second subplot\n",
    "plt.subplot(1,2,2)\n",
    "plt.imshow(test_val[0])\n",
    "\n",
    "# Renders cleanly\n",
    "plt.show()"
   ]
  },
  {
   "cell_type": "markdown",
   "id": "888f1954",
   "metadata": {},
   "source": [
    "# 7. Save Model"
   ]
  },
  {
   "cell_type": "code",
   "execution_count": 50,
   "id": "6f9792ed",
   "metadata": {},
   "outputs": [
    {
     "name": "stdout",
     "output_type": "stream",
     "text": [
      "WARNING:tensorflow:Compiled the loaded model, but the compiled metrics have yet to be built. `model.compile_metrics` will be empty until you train or evaluate the model.\n"
     ]
    },
    {
     "name": "stderr",
     "output_type": "stream",
     "text": [
      "C:\\Users\\HP\\anaconda3\\Lib\\site-packages\\keras\\src\\engine\\training.py:3103: UserWarning: You are saving your model as an HDF5 file via `model.save()`. This file format is considered legacy. We recommend using instead the native Keras format, e.g. `model.save('my_model.keras')`.\n",
      "  saving_api.save_model(\n"
     ]
    }
   ],
   "source": [
    "# Save weights\n",
    "siamese_model.save('siamesemodelv4.h5')"
   ]
  },
  {
   "cell_type": "code",
   "execution_count": 51,
   "id": "de4004e3",
   "metadata": {},
   "outputs": [
    {
     "data": {
      "text/plain": [
       "__main__.L1Dist"
      ]
     },
     "execution_count": 51,
     "metadata": {},
     "output_type": "execute_result"
    }
   ],
   "source": [
    "L1Dist"
   ]
  },
  {
   "cell_type": "code",
   "execution_count": 52,
   "id": "edd91a1c",
   "metadata": {},
   "outputs": [
    {
     "name": "stdout",
     "output_type": "stream",
     "text": [
      "WARNING:tensorflow:No training configuration found in the save file, so the model was *not* compiled. Compile it manually.\n"
     ]
    }
   ],
   "source": [
    "# Reload model \n",
    "siamese_model = tf.keras.models.load_model('siamesemodelv4.h5', \n",
    "                                   custom_objects={'L1Dist':L1Dist,'BinaryCrossentropy':tf.losses.BinaryCrossentropy}) "
   ]
  },
  {
   "cell_type": "code",
   "execution_count": 53,
   "id": "8792cc5c",
   "metadata": {},
   "outputs": [
    {
     "name": "stdout",
     "output_type": "stream",
     "text": [
      "1/1 [==============================] - 3s 3s/step\n"
     ]
    },
    {
     "data": {
      "text/plain": [
       "array([[9.9996823e-01],\n",
       "       [9.9709064e-01],\n",
       "       [1.0000000e+00],\n",
       "       [1.0000000e+00],\n",
       "       [9.9851876e-01],\n",
       "       [9.9999994e-01],\n",
       "       [1.9055241e-06],\n",
       "       [2.4309247e-06],\n",
       "       [2.3866627e-11],\n",
       "       [1.2864834e-06],\n",
       "       [9.9999142e-01],\n",
       "       [2.5349783e-08],\n",
       "       [9.9999535e-01],\n",
       "       [9.9993867e-01]], dtype=float32)"
      ]
     },
     "execution_count": 53,
     "metadata": {},
     "output_type": "execute_result"
    }
   ],
   "source": [
    "# Make predictions with reloaded model\n",
    "siamese_model.predict([test_input, test_val])"
   ]
  },
  {
   "cell_type": "code",
   "execution_count": 56,
   "id": "00bb22f5",
   "metadata": {},
   "outputs": [
    {
     "name": "stdout",
     "output_type": "stream",
     "text": [
      "Model: \"siameseNetwork\"\n",
      "__________________________________________________________________________________________________\n",
      " Layer (type)                Output Shape                 Param #   Connected to                  \n",
      "==================================================================================================\n",
      " input_img (InputLayer)      [(None, 100, 100, 3)]        0         []                            \n",
      "                                                                                                  \n",
      " validation_img (InputLayer  [(None, 100, 100, 3)]        0         []                            \n",
      " )                                                                                                \n",
      "                                                                                                  \n",
      " embedding (Functional)      (None, 4096)                 3896044   ['input_img[0][0]',           \n",
      "                                                          8          'validation_img[0][0]']      \n",
      "                                                                                                  \n",
      " l1_dist_1 (L1Dist)          (None, 4096)                 0         ['embedding[0][0]',           \n",
      "                                                                     'embedding[1][0]']           \n",
      "                                                                                                  \n",
      " dense_1 (Dense)             (None, 1)                    4097      ['l1_dist_1[0][0]']           \n",
      "                                                                                                  \n",
      "==================================================================================================\n",
      "Total params: 38964545 (148.64 MB)\n",
      "Trainable params: 38964545 (148.64 MB)\n",
      "Non-trainable params: 0 (0.00 Byte)\n",
      "__________________________________________________________________________________________________\n"
     ]
    }
   ],
   "source": [
    "# View model summary\n",
    "siamese_model.summary()"
   ]
  },
  {
   "cell_type": "markdown",
   "id": "3bc9c409",
   "metadata": {},
   "source": [
    "# 8.Real Time test"
   ]
  },
  {
   "cell_type": "markdown",
   "id": "4ad916ec",
   "metadata": {},
   "source": [
    "## 8.1 Verification Function"
   ]
  },
  {
   "cell_type": "code",
   "execution_count": 57,
   "id": "3ebece95",
   "metadata": {},
   "outputs": [],
   "source": [
    "def verify(model, detection_threshold, verification_threshold):\n",
    "    # Build results array\n",
    "    results = []\n",
    "    for image in os.listdir(os.path.join('application_data', 'verification_images')):\n",
    "        input_img = preprocess(os.path.join('application_data', 'input_image', 'input_image.jpg'))\n",
    "        validation_img = preprocess(os.path.join('application_data', 'verification_images', image))\n",
    "        \n",
    "        # Make Predictions \n",
    "        result = model.predict(list(np.expand_dims([input_img, validation_img], axis=1)))\n",
    "        results.append(result)\n",
    "    \n",
    "    # Detection Threshold: Metric above which a prediciton is considered positive \n",
    "    detection = np.sum(np.array(results) > detection_threshold)\n",
    "    \n",
    "    # Verification Threshold: Proportion of positive predictions / total positive samples \n",
    "    verification = detection / len(os.listdir(os.path.join('application_data', 'verification_images'))) \n",
    "    verified = verification > verification_threshold\n",
    "    \n",
    "    return results, verified\n",
    "    "
   ]
  },
  {
   "cell_type": "markdown",
   "id": "46556dfe",
   "metadata": {},
   "source": [
    "## 8.2 OpenCV Real Time Verification"
   ]
  },
  {
   "cell_type": "code",
   "execution_count": null,
   "id": "3dda3bd3",
   "metadata": {},
   "outputs": [
    {
     "name": "stdout",
     "output_type": "stream",
     "text": [
      "1/1 [==============================] - 0s 206ms/step\n",
      "1/1 [==============================] - 0s 204ms/step\n",
      "1/1 [==============================] - 0s 214ms/step\n",
      "1/1 [==============================] - 0s 235ms/step\n",
      "1/1 [==============================] - 0s 213ms/step\n",
      "1/1 [==============================] - 0s 240ms/step\n",
      "1/1 [==============================] - 0s 270ms/step\n",
      "1/1 [==============================] - 0s 377ms/step\n",
      "1/1 [==============================] - 0s 221ms/step\n",
      "1/1 [==============================] - 0s 212ms/step\n",
      "1/1 [==============================] - 0s 209ms/step\n",
      "1/1 [==============================] - 0s 204ms/step\n",
      "1/1 [==============================] - 0s 203ms/step\n",
      "1/1 [==============================] - 0s 206ms/step\n",
      "1/1 [==============================] - 0s 244ms/step\n",
      "1/1 [==============================] - 0s 238ms/step\n",
      "1/1 [==============================] - 0s 222ms/step\n",
      "1/1 [==============================] - 0s 256ms/step\n",
      "1/1 [==============================] - 0s 211ms/step\n",
      "1/1 [==============================] - 0s 261ms/step\n",
      "1/1 [==============================] - 0s 207ms/step\n",
      "1/1 [==============================] - 0s 211ms/step\n",
      "1/1 [==============================] - 0s 250ms/step\n",
      "1/1 [==============================] - 0s 201ms/step\n",
      "1/1 [==============================] - 0s 226ms/step\n",
      "1/1 [==============================] - 0s 232ms/step\n",
      "1/1 [==============================] - 0s 234ms/step\n",
      "1/1 [==============================] - 0s 220ms/step\n",
      "True\n",
      "1/1 [==============================] - 0s 222ms/step\n",
      "1/1 [==============================] - 0s 205ms/step\n",
      "1/1 [==============================] - 0s 225ms/step\n",
      "1/1 [==============================] - 0s 263ms/step\n",
      "1/1 [==============================] - 0s 218ms/step\n",
      "1/1 [==============================] - 0s 214ms/step\n",
      "1/1 [==============================] - 0s 205ms/step\n",
      "1/1 [==============================] - 0s 319ms/step\n",
      "1/1 [==============================] - 0s 224ms/step\n",
      "1/1 [==============================] - 0s 226ms/step\n",
      "1/1 [==============================] - 0s 293ms/step\n",
      "1/1 [==============================] - 0s 240ms/step\n",
      "1/1 [==============================] - 0s 208ms/step\n",
      "1/1 [==============================] - 0s 217ms/step\n",
      "1/1 [==============================] - 0s 225ms/step\n",
      "1/1 [==============================] - 0s 213ms/step\n",
      "1/1 [==============================] - 0s 254ms/step\n",
      "1/1 [==============================] - 0s 245ms/step\n",
      "1/1 [==============================] - 0s 204ms/step\n",
      "1/1 [==============================] - 0s 220ms/step\n",
      "1/1 [==============================] - 0s 215ms/step\n",
      "1/1 [==============================] - 0s 215ms/step\n",
      "1/1 [==============================] - 0s 220ms/step\n",
      "1/1 [==============================] - 0s 228ms/step\n",
      "1/1 [==============================] - 0s 222ms/step\n",
      "1/1 [==============================] - 0s 348ms/step\n",
      "1/1 [==============================] - 0s 256ms/step\n",
      "1/1 [==============================] - 0s 240ms/step\n",
      "True\n",
      "1/1 [==============================] - 0s 217ms/step\n",
      "1/1 [==============================] - 0s 208ms/step\n",
      "1/1 [==============================] - 0s 221ms/step\n",
      "1/1 [==============================] - 0s 239ms/step\n",
      "1/1 [==============================] - 0s 220ms/step\n",
      "1/1 [==============================] - 0s 240ms/step\n",
      "1/1 [==============================] - 0s 241ms/step\n",
      "1/1 [==============================] - 0s 233ms/step\n",
      "1/1 [==============================] - 0s 208ms/step\n",
      "1/1 [==============================] - 0s 215ms/step\n",
      "1/1 [==============================] - 0s 214ms/step\n",
      "1/1 [==============================] - 0s 208ms/step\n",
      "1/1 [==============================] - 0s 206ms/step\n",
      "1/1 [==============================] - 0s 256ms/step\n",
      "1/1 [==============================] - 0s 226ms/step\n",
      "1/1 [==============================] - 0s 278ms/step\n",
      "1/1 [==============================] - 0s 303ms/step\n",
      "1/1 [==============================] - 0s 258ms/step\n",
      "1/1 [==============================] - 0s 241ms/step\n",
      "1/1 [==============================] - 0s 215ms/step\n",
      "1/1 [==============================] - 0s 234ms/step\n",
      "1/1 [==============================] - 0s 277ms/step\n",
      "1/1 [==============================] - 0s 246ms/step\n",
      "1/1 [==============================] - 0s 244ms/step\n",
      "1/1 [==============================] - 0s 228ms/step\n",
      "1/1 [==============================] - 0s 216ms/step\n",
      "1/1 [==============================] - 0s 208ms/step\n",
      "1/1 [==============================] - 0s 206ms/step\n",
      "True\n",
      "1/1 [==============================] - 0s 202ms/step\n",
      "1/1 [==============================] - 0s 230ms/step\n",
      "1/1 [==============================] - 0s 230ms/step\n",
      "1/1 [==============================] - 0s 290ms/step\n",
      "1/1 [==============================] - 0s 237ms/step\n",
      "1/1 [==============================] - 0s 202ms/step\n",
      "1/1 [==============================] - 0s 215ms/step\n",
      "1/1 [==============================] - 0s 229ms/step\n",
      "1/1 [==============================] - 0s 216ms/step\n",
      "1/1 [==============================] - 0s 216ms/step\n",
      "1/1 [==============================] - 0s 227ms/step\n",
      "1/1 [==============================] - 0s 219ms/step\n",
      "1/1 [==============================] - 0s 234ms/step\n",
      "1/1 [==============================] - 0s 206ms/step\n",
      "1/1 [==============================] - 0s 211ms/step\n",
      "1/1 [==============================] - 0s 219ms/step\n",
      "1/1 [==============================] - 0s 233ms/step\n",
      "1/1 [==============================] - 0s 217ms/step\n",
      "1/1 [==============================] - 0s 284ms/step\n",
      "1/1 [==============================] - 0s 228ms/step\n",
      "1/1 [==============================] - 0s 220ms/step\n",
      "1/1 [==============================] - 0s 211ms/step\n",
      "1/1 [==============================] - 0s 219ms/step\n",
      "1/1 [==============================] - 0s 207ms/step\n",
      "1/1 [==============================] - 0s 235ms/step\n",
      "1/1 [==============================] - 0s 277ms/step\n",
      "1/1 [==============================] - 0s 242ms/step\n",
      "1/1 [==============================] - 0s 241ms/step\n",
      "False\n",
      "1/1 [==============================] - 0s 215ms/step\n",
      "1/1 [==============================] - 0s 204ms/step\n",
      "1/1 [==============================] - 0s 219ms/step\n",
      "1/1 [==============================] - 0s 236ms/step\n",
      "1/1 [==============================] - 0s 213ms/step\n",
      "1/1 [==============================] - 0s 232ms/step\n",
      "1/1 [==============================] - 0s 358ms/step\n",
      "1/1 [==============================] - 0s 228ms/step\n",
      "1/1 [==============================] - 0s 240ms/step\n",
      "1/1 [==============================] - 0s 243ms/step\n",
      "1/1 [==============================] - 0s 217ms/step\n",
      "1/1 [==============================] - 0s 226ms/step\n",
      "1/1 [==============================] - 0s 283ms/step\n",
      "1/1 [==============================] - 0s 210ms/step\n",
      "1/1 [==============================] - 0s 218ms/step\n",
      "1/1 [==============================] - 0s 211ms/step\n",
      "1/1 [==============================] - 0s 253ms/step\n",
      "1/1 [==============================] - 0s 259ms/step\n",
      "1/1 [==============================] - 0s 218ms/step\n",
      "1/1 [==============================] - 0s 229ms/step\n",
      "1/1 [==============================] - 0s 219ms/step\n",
      "1/1 [==============================] - 0s 216ms/step\n",
      "1/1 [==============================] - 0s 224ms/step\n",
      "1/1 [==============================] - 0s 236ms/step\n",
      "1/1 [==============================] - 0s 231ms/step\n",
      "1/1 [==============================] - 0s 206ms/step\n",
      "1/1 [==============================] - 0s 247ms/step\n",
      "1/1 [==============================] - 0s 238ms/step\n",
      "False\n",
      "1/1 [==============================] - 0s 216ms/step\n",
      "1/1 [==============================] - 0s 216ms/step\n",
      "1/1 [==============================] - 0s 202ms/step\n",
      "1/1 [==============================] - 0s 261ms/step\n",
      "1/1 [==============================] - 0s 217ms/step\n",
      "1/1 [==============================] - 0s 322ms/step\n",
      "1/1 [==============================] - 0s 243ms/step\n",
      "1/1 [==============================] - 0s 225ms/step\n",
      "1/1 [==============================] - 0s 213ms/step\n",
      "1/1 [==============================] - 0s 214ms/step\n",
      "1/1 [==============================] - 0s 206ms/step\n",
      "1/1 [==============================] - 0s 262ms/step\n",
      "1/1 [==============================] - 0s 239ms/step\n",
      "1/1 [==============================] - 0s 228ms/step\n",
      "1/1 [==============================] - 0s 237ms/step\n",
      "1/1 [==============================] - 0s 207ms/step\n",
      "1/1 [==============================] - 0s 212ms/step\n",
      "1/1 [==============================] - 0s 203ms/step\n",
      "1/1 [==============================] - 0s 212ms/step\n",
      "1/1 [==============================] - 0s 219ms/step\n",
      "1/1 [==============================] - 0s 240ms/step\n",
      "1/1 [==============================] - 0s 214ms/step\n",
      "1/1 [==============================] - 0s 211ms/step\n",
      "1/1 [==============================] - 0s 223ms/step\n",
      "1/1 [==============================] - 0s 204ms/step\n",
      "1/1 [==============================] - 0s 224ms/step\n",
      "1/1 [==============================] - 0s 214ms/step\n",
      "1/1 [==============================] - 0s 226ms/step\n",
      "True\n"
     ]
    }
   ],
   "source": [
    "cap = cv2.VideoCapture(0)\n",
    "while cap.isOpened():\n",
    "    ret, frame = cap.read()\n",
    "    frame = frame[170:170+250,200:200+250,:]\n",
    "    \n",
    "    cv2.imshow('Verification', frame)\n",
    "    \n",
    "    # Verification trigger\n",
    "    if cv2.waitKey(10) & 0xFF == ord('v'):\n",
    "        # Save input image to application_data/input_image folder \n",
    "#         hsv = cv2.cvtColor(frame, cv2.COLOR_BGR2HSV)\n",
    "#         h, s, v = cv2.split(hsv)\n",
    "\n",
    "#         lim = 255 - 10\n",
    "#         v[v > lim] = 255\n",
    "#         v[v <= lim] -= 10\n",
    "        \n",
    "#         final_hsv = cv2.merge((h, s, v))\n",
    "#         img = cv2.cvtColor(final_hsv, cv2.COLOR_HSV2BGR)\n",
    "\n",
    "        cv2.imwrite(os.path.join('application_data', 'input_image', 'input_image.jpg'), frame)\n",
    "        # Run verification\n",
    "        results, verified = verify(siamese_model, 0.7, 0.6)\n",
    "        print(verified)\n",
    "    \n",
    "    if cv2.waitKey(10) & 0xFF == ord('q'):\n",
    "        break\n",
    "cap.release()\n",
    "cv2.destroyAllWindows()"
   ]
  },
  {
   "cell_type": "code",
   "execution_count": null,
   "id": "c7ecdf71",
   "metadata": {},
   "outputs": [],
   "source": [
    "np.sum(np.squeeze(results)>0.7)"
   ]
  },
  {
   "cell_type": "code",
   "execution_count": null,
   "id": "d975fd43",
   "metadata": {},
   "outputs": [],
   "source": [
    "15/29"
   ]
  },
  {
   "cell_type": "code",
   "execution_count": null,
   "id": "60fe0c79",
   "metadata": {},
   "outputs": [],
   "source": []
  }
 ],
 "metadata": {
  "kernelspec": {
   "display_name": "Python 3 (ipykernel)",
   "language": "python",
   "name": "python3"
  },
  "language_info": {
   "codemirror_mode": {
    "name": "ipython",
    "version": 3
   },
   "file_extension": ".py",
   "mimetype": "text/x-python",
   "name": "python",
   "nbconvert_exporter": "python",
   "pygments_lexer": "ipython3",
   "version": "3.11.4"
  }
 },
 "nbformat": 4,
 "nbformat_minor": 5
}
